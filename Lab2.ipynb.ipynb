{
 "cells": [
  {
   "cell_type": "code",
   "execution_count": 191,
   "id": "08a7b80e-5a42-495f-b901-19012803a4fe",
   "metadata": {},
   "outputs": [
    {
     "name": "stdout",
     "output_type": "stream",
     "text": [
      "Variant:3\n"
     ]
    }
   ],
   "source": [
    "print('Variant:' +  str(ord(\"Y\") % 3 + 1))"
   ]
  },
  {
   "cell_type": "code",
   "execution_count": 193,
   "id": "0745ab7a-c5b5-4bd5-bc01-b68e1d83ba6d",
   "metadata": {},
   "outputs": [
    {
     "name": "stdout",
     "output_type": "stream",
     "text": [
      "Requirement already satisfied: numpy in c:\\users\\ygokh\\anaconda3\\lib\\site-packages (1.26.4)\n",
      "Note: you may need to restart the kernel to use updated packages.\n"
     ]
    }
   ],
   "source": [
    "pip install numpy"
   ]
  },
  {
   "cell_type": "code",
   "execution_count": 195,
   "id": "ef4e4c3b-c4cb-49f2-906d-b916b0247cdd",
   "metadata": {},
   "outputs": [],
   "source": [
    "import numpy as np"
   ]
  },
  {
   "cell_type": "markdown",
   "id": "8c43cfa6-5dc1-4242-a980-fb0b043b92c1",
   "metadata": {},
   "source": [
    "Assignment 1"
   ]
  },
  {
   "cell_type": "code",
   "execution_count": 198,
   "id": "ea4eaf2f-96e1-4dd3-9a88-19da4fbfb082",
   "metadata": {},
   "outputs": [],
   "source": [
    "import csv"
   ]
  },
  {
   "cell_type": "code",
   "execution_count": 200,
   "id": "a22c4c79-c041-4061-888a-c8bf67277538",
   "metadata": {},
   "outputs": [],
   "source": [
    "def get_column_values(filename, column_name):\n",
    "    with open(filename, 'r') as file:\n",
    "        reader = csv.reader(file)\n",
    "        header = next(reader)\n",
    "        col_index = header.index(column_name)\n",
    "        data = np.array([row[col_index] for row in reader], dtype=int)\n",
    "        \n",
    "        return data"
   ]
  },
  {
   "cell_type": "markdown",
   "id": "afd96422-3553-4114-9fe7-67b5c6c9abfb",
   "metadata": {},
   "source": [
    "Assignment 2"
   ]
  },
  {
   "cell_type": "code",
   "execution_count": 203,
   "id": "c950508d-1d9c-490e-91c9-4ae14003f240",
   "metadata": {},
   "outputs": [
    {
     "name": "stdout",
     "output_type": "stream",
     "text": [
      "[18111 18072 18053 18002 17969 17939 17895 17876 17827 17800 17765 17751\n",
      " 17740 17710 17679 17658 17627 17596 17579 17547 17503 17476 17438 17396\n",
      " 17344 17304 17292 17252 17222 17170 17132 17093 17080 17077 17071 17063\n",
      " 17043 17003 16955 16938 16925 16906 16897 16878 16878 16869 16848 16821\n",
      " 16786 16760 16736 16722 16699 16681 16667 16648 16631 16620 16599 16567\n",
      " 16542 16521 16495 16480 16473 16461 16426 16402 16385 16368 16363 16350\n",
      " 16341 16332 16323 16294 16286 16255 16238 16211 16203 16161 16141 16103\n",
      " 16095 16074 16050 16039 16013 16000 15980 15963 15917 15902 15883 15871\n",
      " 15862 15826 15811 15779 15755 15732 15715 15704 15685 15645 15629 15611\n",
      " 15600 15583 15566 15550 15524 15505 15480 15459 15450 15431 15413 15398\n",
      " 15383 15372 15337 15319 15307 15287 15269 15263 15234 15208 15187 15176\n",
      " 15144 15131 15105 15096 15076 15036 15020 15002 14980 14947 14935 14913\n",
      " 14891 14858 14818 14803 14786 14775 14748 14721 14699 14665 14630 14595\n",
      " 14552 14538 14508 14460 14417 14375 14353 14313 14281 14246 14227 14213\n",
      " 14179 14156 14129 14096 14067 14046 14007 13991 13971 13957 13942 13928\n",
      " 13916 13904 13896 13873 13852 13835 13827 13809 13796 13765 13745 13698\n",
      " 13679 13667 13620 13575 13551 13497 13459 13386 13368 13350 13321 13304\n",
      " 13284 13264 13237 13216 13207 13183 13158 13130 13111 13074 13058 13049\n",
      " 13014 12997 12973 12949 12938 12921 12901 12874 12850 12823 12798 12779\n",
      " 12728 12688 12660 12639 12611 12582 12552 12508 12494 12478 12441 12425\n",
      " 12410 12373 12338 12268 12232 12198 12145 12129 12090 12043 12004 11977\n",
      " 11956 11942 11921 11899 11879 11857 11822 11818 11805 11792 11773 11757\n",
      " 11725 11696 11671 11652 11637 11621 11579 11548 11489 11466 11455 11445\n",
      " 11410 11372 11358 11322 11302 11269 11254 11238 11216 11203 11194 11180\n",
      " 11158 11142 11128 11107 11100 11087 11070 11053 11033 11015 10973 10956\n",
      " 10919 10888 10871 10843 10825 10794 10771 10752 10692 10667 10654 10616\n",
      " 10594 10579 10560 10529 10519 10508 10482 10456 10416 10401 10396 10385\n",
      " 10372 10340 10312 10285 10282 10279 10263 10256 10224 10188 10174 10168\n",
      " 10166 10141 10132 10121 10104 10086 10079 10073 10041 10017 10014  9996\n",
      "  9974  9958  9953  9939  9901  9877  9834  9804  9775  9758  9749  9726\n",
      "  9715  9697  9669  9653  9631  9612  9557  9437  9420  9405  9385  9362\n",
      "  9337  9313  9264  9220  9129  9126  9123  9102  9082  9052  9026  9008\n",
      "  9000  8991  8984  8972  8962  8950  8946  8927  8914  8912  8891  8883\n",
      "  8868  8851  8834  8828  8824  8814  8810  8792  8778  8767  8755  8739\n",
      "  8726  8703  8682  8670  8663  8649  8637  8613  8604  8596  8579  8562\n",
      "  8554  8539  8521  8511  8488  8476  8449  8435  8424  8410  8398  8380\n",
      "  8370  8354  8335  8324  8318  8303  8290  8278  8270  8262  8251  8249\n",
      "  8234  8213  8205  8188  8178  8167  8161  8147  8136  8131  8118  8105\n",
      "  8096  8080  8065  8059  8051  8034  8026  8019  8008  7999  7990  7983\n",
      "  7966  7964  7953  7944  7932  7917  7908  7899  7888  7868  7863  7857\n",
      "  7847  7834  7820  7806  7804  7798  7783  7771  7750  7735  7729  7706\n",
      "  7683  7667  7653  7642  7636  7631  7607  7600  7576  7560  7543  7523\n",
      "  7512  7502  7490  7478  7472  7469  7467  7456  7442  7435  7432  7424\n",
      "  7419  7407  7398  7382  7377  7373  7365  7348  7336  7325  7307  7295\n",
      "  7287  7275  7257  7253  7248  7238  7224  7216  7199  7193  7192  7189\n",
      "  7184  7181  7178  7162  7151  7139  7131  7130  7126  7120  7110  7098\n",
      "  7087  7083  7073  7069  7053  7043  7038  7028  7024  7020  7016  7013\n",
      "  7005  6999  6993  6986  6981  6977  6974  6966  6966  6953  6947  6932\n",
      "  6921  6898  6887  6879  6869  6853  6830  6823  6810  6799  6789  6774\n",
      "  6769  6762  6742  6736  6723  6714  6703  6692  6683  6673  6658  6638\n",
      "  6630  6621  6615  6609  6600  6593  6569  6562  6553  6545  6533  6520\n",
      "  6517  6507  6500  6492  6488  6474  6471  6468  6458  6443  6415  6405\n",
      "  6394  6388  6382  6382  6378  6369  6366  6344  6340  6334  6307  6284\n",
      "  6276  6268  6256  6241  6235  6215  6215  6204  6183  6173  6167  6159\n",
      "  6159  6154  6147  6130  6125  6124  6108  6106  6100  6093  6084  6075\n",
      "  6059  6047  6037  6024  6017  6010  5994  5986  5981  5979  5974  5969\n",
      "  5963  5958  5952  5946  5937  5930  5928  5920  5917  5912  5911  5909\n",
      "  5905  5900  5892  5886  5883  5877  5872  5866  5861  5856  5848  5844\n",
      "  5837  5832  5827  5822  5817  5815  5808  5804  5797  5773  5748  5742\n",
      "  5730  5696  5682  5666  5654  5630  5611  5601  5580  5552  5525  5501\n",
      "  5485  5453  5401  5378  5364  5351  5321  5295  5284  5266  5258  5255\n",
      "  5235  5219  5205  5193  5179  5172  5167  5181  5162  5149  5133  5111\n",
      "  5093  5064  5038  5018  4991  4975  4949  4932  4909  4889  4881  4857\n",
      "  4832  4807  4796  4776  4748  4724  4720  4718  4701  4690  4682  4665\n",
      "  4662  4640  4617  4584  4575  4557  4520  4484  4459  4430  4403  4366\n",
      "  4345  4312  4294  4269  4257  4254  4251  4245  4243  4238  4230  4224\n",
      "  4212  4195  4179  4162  4152  4141  4126  4115  4108  4100  4086  4076\n",
      "  4070  4055  4051  4032  4026  4022  4014  4011  4004  3995  3987  3979\n",
      "  3971  3959  3950  3942  3929  3920  3912  3905  3892  3886  3879  3874\n",
      "  3866  3832  3832  3829  3828  3823  3815  3811  3797  3789  3772  3744\n",
      "  3744  3737  3736  3726  3720  3704  3687  3659  3645  3637  3632  3614\n",
      "  3606  3588  3577  3573  3563  3545  3528  3503  3492  3484  3466  3450\n",
      "  3438  3429  3416  3400  3392  3379  3366  3354  3343  3302  3282  3270\n",
      "  3258  3246  3235  3213  3194  3166  3141  3116  3090  3063  3043  3009\n",
      "  2974  2958  2934  2900  2873  2856  2808  2764  2741  2713  2686  2651\n",
      "  2610  2567  2519  2471  2445  2418  2389  2342  2308  2258  2238  2205\n",
      "  2162  2118  2087  2063  2041  2002  1982  1976  1968  1964  1946  1923\n",
      "  1911  1895  1891  1891  1861  1858  1844  1830  1776  1751  1735  1723\n",
      "  1710  1694  1664  1640  1625  1597  1578  1556  1535  1487  1470  1448\n",
      "  1435  1375  1279  1249  1226  1205  1165  1105  1070  1036   999   985\n",
      "   945   939   900   862   846   816   706   706   516]\n"
     ]
    }
   ],
   "source": [
    "apc_values = get_column_values('russia_losses_equipment.csv', 'APC')\n",
    "\n",
    "print(apc_values)"
   ]
  },
  {
   "cell_type": "markdown",
   "id": "bf61193f-9093-4b9d-851d-5f0f15f92fb3",
   "metadata": {},
   "source": [
    "Assignment 3"
   ]
  },
  {
   "cell_type": "code",
   "execution_count": 206,
   "id": "45e96752-3308-4cb7-88ed-7a634a0bef34",
   "metadata": {},
   "outputs": [],
   "source": [
    "import pandas as pd\n",
    "\n",
    "def get_column_values(filename, column_name):\n",
    "    data = pd.read_csv(filename)\n",
    "    return data[column_name].values\n"
   ]
  },
  {
   "cell_type": "code",
   "execution_count": 208,
   "id": "c358d4fa-d782-4c0d-bf42-fd32b02e3971",
   "metadata": {},
   "outputs": [],
   "source": [
    "import pandas as pd\n",
    "import numpy as np\n",
    "\n",
    "def find_daily_losses(filename, column_name=\"APC\"):\n",
    "    data = pd.read_csv(filename)\n",
    "    apc_values = data[column_name].values\n",
    "    daily_losses = np.diff(apc_values)\n",
    "    return daily_losses\n"
   ]
  },
  {
   "cell_type": "code",
   "execution_count": 210,
   "id": "3506bf06-79e8-46e1-ba08-55928c888b6f",
   "metadata": {},
   "outputs": [
    {
     "name": "stdout",
     "output_type": "stream",
     "text": [
      "[ -39  -19  -51  -33  -30  -44  -19  -49  -27  -35  -14  -11  -30  -31\n",
      "  -21  -31  -31  -17  -32  -44  -27  -38  -42  -52  -40  -12  -40  -30\n",
      "  -52  -38  -39  -13   -3   -6   -8  -20  -40  -48  -17  -13  -19   -9\n",
      "  -19    0   -9  -21  -27  -35  -26  -24  -14  -23  -18  -14  -19  -17\n",
      "  -11  -21  -32  -25  -21  -26  -15   -7  -12  -35  -24  -17  -17   -5\n",
      "  -13   -9   -9   -9  -29   -8  -31  -17  -27   -8  -42  -20  -38   -8\n",
      "  -21  -24  -11  -26  -13  -20  -17  -46  -15  -19  -12   -9  -36  -15\n",
      "  -32  -24  -23  -17  -11  -19  -40  -16  -18  -11  -17  -17  -16  -26\n",
      "  -19  -25  -21   -9  -19  -18  -15  -15  -11  -35  -18  -12  -20  -18\n",
      "   -6  -29  -26  -21  -11  -32  -13  -26   -9  -20  -40  -16  -18  -22\n",
      "  -33  -12  -22  -22  -33  -40  -15  -17  -11  -27  -27  -22  -34  -35\n",
      "  -35  -43  -14  -30  -48  -43  -42  -22  -40  -32  -35  -19  -14  -34\n",
      "  -23  -27  -33  -29  -21  -39  -16  -20  -14  -15  -14  -12  -12   -8\n",
      "  -23  -21  -17   -8  -18  -13  -31  -20  -47  -19  -12  -47  -45  -24\n",
      "  -54  -38  -73  -18  -18  -29  -17  -20  -20  -27  -21   -9  -24  -25\n",
      "  -28  -19  -37  -16   -9  -35  -17  -24  -24  -11  -17  -20  -27  -24\n",
      "  -27  -25  -19  -51  -40  -28  -21  -28  -29  -30  -44  -14  -16  -37\n",
      "  -16  -15  -37  -35  -70  -36  -34  -53  -16  -39  -47  -39  -27  -21\n",
      "  -14  -21  -22  -20  -22  -35   -4  -13  -13  -19  -16  -32  -29  -25\n",
      "  -19  -15  -16  -42  -31  -59  -23  -11  -10  -35  -38  -14  -36  -20\n",
      "  -33  -15  -16  -22  -13   -9  -14  -22  -16  -14  -21   -7  -13  -17\n",
      "  -17  -20  -18  -42  -17  -37  -31  -17  -28  -18  -31  -23  -19  -60\n",
      "  -25  -13  -38  -22  -15  -19  -31  -10  -11  -26  -26  -40  -15   -5\n",
      "  -11  -13  -32  -28  -27   -3   -3  -16   -7  -32  -36  -14   -6   -2\n",
      "  -25   -9  -11  -17  -18   -7   -6  -32  -24   -3  -18  -22  -16   -5\n",
      "  -14  -38  -24  -43  -30  -29  -17   -9  -23  -11  -18  -28  -16  -22\n",
      "  -19  -55 -120  -17  -15  -20  -23  -25  -24  -49  -44  -91   -3   -3\n",
      "  -21  -20  -30  -26  -18   -8   -9   -7  -12  -10  -12   -4  -19  -13\n",
      "   -2  -21   -8  -15  -17  -17   -6   -4  -10   -4  -18  -14  -11  -12\n",
      "  -16  -13  -23  -21  -12   -7  -14  -12  -24   -9   -8  -17  -17   -8\n",
      "  -15  -18  -10  -23  -12  -27  -14  -11  -14  -12  -18  -10  -16  -19\n",
      "  -11   -6  -15  -13  -12   -8   -8  -11   -2  -15  -21   -8  -17  -10\n",
      "  -11   -6  -14  -11   -5  -13  -13   -9  -16  -15   -6   -8  -17   -8\n",
      "   -7  -11   -9   -9   -7  -17   -2  -11   -9  -12  -15   -9   -9  -11\n",
      "  -20   -5   -6  -10  -13  -14  -14   -2   -6  -15  -12  -21  -15   -6\n",
      "  -23  -23  -16  -14  -11   -6   -5  -24   -7  -24  -16  -17  -20  -11\n",
      "  -10  -12  -12   -6   -3   -2  -11  -14   -7   -3   -8   -5  -12   -9\n",
      "  -16   -5   -4   -8  -17  -12  -11  -18  -12   -8  -12  -18   -4   -5\n",
      "  -10  -14   -8  -17   -6   -1   -3   -5   -3   -3  -16  -11  -12   -8\n",
      "   -1   -4   -6  -10  -12  -11   -4  -10   -4  -16  -10   -5  -10   -4\n",
      "   -4   -4   -3   -8   -6   -6   -7   -5   -4   -3   -8    0  -13   -6\n",
      "  -15  -11  -23  -11   -8  -10  -16  -23   -7  -13  -11  -10  -15   -5\n",
      "   -7  -20   -6  -13   -9  -11  -11   -9  -10  -15  -20   -8   -9   -6\n",
      "   -6   -9   -7  -24   -7   -9   -8  -12  -13   -3  -10   -7   -8   -4\n",
      "  -14   -3   -3  -10  -15  -28  -10  -11   -6   -6    0   -4   -9   -3\n",
      "  -22   -4   -6  -27  -23   -8   -8  -12  -15   -6  -20    0  -11  -21\n",
      "  -10   -6   -8    0   -5   -7  -17   -5   -1  -16   -2   -6   -7   -9\n",
      "   -9  -16  -12  -10  -13   -7   -7  -16   -8   -5   -2   -5   -5   -6\n",
      "   -5   -6   -6   -9   -7   -2   -8   -3   -5   -1   -2   -4   -5   -8\n",
      "   -6   -3   -6   -5   -6   -5   -5   -8   -4   -7   -5   -5   -5   -5\n",
      "   -2   -7   -4   -7  -24  -25   -6  -12  -34  -14  -16  -12  -24  -19\n",
      "  -10  -21  -28  -27  -24  -16  -32  -52  -23  -14  -13  -30  -26  -11\n",
      "  -18   -8   -3  -20  -16  -14  -12  -14   -7   -5   14  -19  -13  -16\n",
      "  -22  -18  -29  -26  -20  -27  -16  -26  -17  -23  -20   -8  -24  -25\n",
      "  -25  -11  -20  -28  -24   -4   -2  -17  -11   -8  -17   -3  -22  -23\n",
      "  -33   -9  -18  -37  -36  -25  -29  -27  -37  -21  -33  -18  -25  -12\n",
      "   -3   -3   -6   -2   -5   -8   -6  -12  -17  -16  -17  -10  -11  -15\n",
      "  -11   -7   -8  -14  -10   -6  -15   -4  -19   -6   -4   -8   -3   -7\n",
      "   -9   -8   -8   -8  -12   -9   -8  -13   -9   -8   -7  -13   -6   -7\n",
      "   -5   -8  -34    0   -3   -1   -5   -8   -4  -14   -8  -17  -28    0\n",
      "   -7   -1  -10   -6  -16  -17  -28  -14   -8   -5  -18   -8  -18  -11\n",
      "   -4  -10  -18  -17  -25  -11   -8  -18  -16  -12   -9  -13  -16   -8\n",
      "  -13  -13  -12  -11  -41  -20  -12  -12  -12  -11  -22  -19  -28  -25\n",
      "  -25  -26  -27  -20  -34  -35  -16  -24  -34  -27  -17  -48  -44  -23\n",
      "  -28  -27  -35  -41  -43  -48  -48  -26  -27  -29  -47  -34  -50  -20\n",
      "  -33  -43  -44  -31  -24  -22  -39  -20   -6   -8   -4  -18  -23  -12\n",
      "  -16   -4    0  -30   -3  -14  -14  -54  -25  -16  -12  -13  -16  -30\n",
      "  -24  -15  -28  -19  -22  -21  -48  -17  -22  -13  -60  -96  -30  -23\n",
      "  -21  -40  -60  -35  -34  -37  -14  -40   -6  -39  -38  -16  -30 -110\n",
      "    0 -190]\n"
     ]
    }
   ],
   "source": [
    "print(find_daily_losses('russia_losses_equipment.csv'))"
   ]
  },
  {
   "cell_type": "markdown",
   "id": "fafcfbcc-17c0-4e1e-b3db-0785426e2c42",
   "metadata": {},
   "source": [
    "Assignment 4"
   ]
  },
  {
   "cell_type": "code",
   "execution_count": 213,
   "id": "e580c79d-edc6-480f-8b43-f485390dda7e",
   "metadata": {},
   "outputs": [],
   "source": [
    "def find_top_5_losses(filename, column_name=\"APC\"):\n",
    "     daily_losses = find_daily_losses(filename, column_name)\n",
    "     top_5_losses = np.sort(daily_losses)[:5]\n",
    "    \n",
    "     return top_5_losses[::1]"
   ]
  },
  {
   "cell_type": "code",
   "execution_count": 215,
   "id": "15d21cee-e9e3-4502-98a5-ecab8ca31d32",
   "metadata": {},
   "outputs": [
    {
     "name": "stdout",
     "output_type": "stream",
     "text": [
      "[-190 -120 -110  -96  -91]\n"
     ]
    }
   ],
   "source": [
    "print(find_top_5_losses('russia_losses_equipment.csv'))"
   ]
  },
  {
   "cell_type": "markdown",
   "id": "d4898744-a7d7-47cc-8b2e-21457607e3b6",
   "metadata": {},
   "source": [
    "Assignment 5"
   ]
  },
  {
   "cell_type": "code",
   "execution_count": 218,
   "id": "a571e51a-6971-402f-8da1-8b782327eee1",
   "metadata": {},
   "outputs": [],
   "source": [
    "from datetime import datetime"
   ]
  },
  {
   "cell_type": "code",
   "execution_count": 220,
   "id": "b8bd1b64-2f05-4fba-8350-0e1b02b22700",
   "metadata": {},
   "outputs": [],
   "source": [
    "def get_dates(filename):\n",
    "    with open(filename, 'r') as file:\n",
    "        reader = csv.reader(file)\n",
    "        header = next(reader)\n",
    "        \n",
    "        try:\n",
    "            date_col_index = header.index(\"date\")\n",
    "        except ValueError:\n",
    "            raise ValueError(f\"Column 'date' not found.\")\n",
    "        \n",
    "        dates = []\n",
    "        for row in reader:\n",
    "            try:\n",
    "                date = datetime.strptime(row[date_col_index], \"%Y-%m-%d\")\n",
    "                dates.append(date)\n",
    "            except ValueError:\n",
    "                continue\n",
    "        \n",
    "        return np.array(dates)"
   ]
  },
  {
   "cell_type": "code",
   "execution_count": 222,
   "id": "15cd423d-40ee-4bc0-ade4-dab09df32dd5",
   "metadata": {},
   "outputs": [],
   "source": [
    "def apc_losses_in_summer(filename, column_name=\"APC\"):\n",
    "    daily_losses = get_column_values(filename, column_name)\n",
    "    \n",
    "    dates = get_dates(filename)\n",
    "    \n",
    "    summer_mask = (dates >= datetime(2024, 6, 1)) & (dates <= datetime(2024, 8, 31))\n",
    "    summer_losses = daily_losses[summer_mask]\n",
    "    \n",
    "    total_summer_losses = np.sum(summer_losses)\n",
    "    \n",
    "    return total_summer_losses"
   ]
  },
  {
   "cell_type": "code",
   "execution_count": 224,
   "id": "418cdcf2-2dbf-4637-b31e-34a761f1b4c1",
   "metadata": {},
   "outputs": [
    {
     "name": "stdout",
     "output_type": "stream",
     "text": [
      "1459103\n"
     ]
    }
   ],
   "source": [
    "print(apc_losses_in_summer('russia_losses_equipment.csv'))"
   ]
  },
  {
   "cell_type": "markdown",
   "id": "de8bc1ad-5a82-4b94-ba6d-298e25992a59",
   "metadata": {},
   "source": [
    "Assignment 6"
   ]
  },
  {
   "cell_type": "code",
   "execution_count": 227,
   "id": "ee8749f9-1e71-46e6-8d8e-b1a8e4d888b8",
   "metadata": {},
   "outputs": [],
   "source": [
    "def find_mean_losses(filename, start_day=100, end_day=500, column_name=\"APC\"):\n",
    "    daily_losses = get_column_values(filename, column_name)\n",
    "    \n",
    "    selected_losses = daily_losses[start_day-1:end_day]\n",
    "    \n",
    "    mean_losses = np.mean(selected_losses)\n",
    "    \n",
    "    return int(mean_losses)"
   ]
  },
  {
   "cell_type": "code",
   "execution_count": 229,
   "id": "70f472bc-bc28-4c1e-a199-a4eaf494b9dd",
   "metadata": {},
   "outputs": [
    {
     "name": "stdout",
     "output_type": "stream",
     "text": [
      "11220\n"
     ]
    }
   ],
   "source": [
    "print(find_mean_losses('russia_losses_equipment.csv'))"
   ]
  },
  {
   "cell_type": "markdown",
   "id": "40abb2c9-036b-4e7f-8c5d-ba39386e901d",
   "metadata": {},
   "source": [
    "Assignment 7"
   ]
  },
  {
   "cell_type": "code",
   "execution_count": 231,
   "id": "db2937e0-dc71-48b9-8770-62665bf0df6c",
   "metadata": {},
   "outputs": [
    {
     "name": "stdout",
     "output_type": "stream",
     "text": [
      "Requirement already satisfied: matplotlib in c:\\users\\ygokh\\anaconda3\\lib\\site-packages (3.9.2)\n",
      "Requirement already satisfied: contourpy>=1.0.1 in c:\\users\\ygokh\\anaconda3\\lib\\site-packages (from matplotlib) (1.2.0)\n",
      "Requirement already satisfied: cycler>=0.10 in c:\\users\\ygokh\\anaconda3\\lib\\site-packages (from matplotlib) (0.11.0)\n",
      "Requirement already satisfied: fonttools>=4.22.0 in c:\\users\\ygokh\\anaconda3\\lib\\site-packages (from matplotlib) (4.51.0)\n",
      "Requirement already satisfied: kiwisolver>=1.3.1 in c:\\users\\ygokh\\anaconda3\\lib\\site-packages (from matplotlib) (1.4.4)\n",
      "Requirement already satisfied: numpy>=1.23 in c:\\users\\ygokh\\anaconda3\\lib\\site-packages (from matplotlib) (1.26.4)\n",
      "Requirement already satisfied: packaging>=20.0 in c:\\users\\ygokh\\anaconda3\\lib\\site-packages (from matplotlib) (24.1)\n",
      "Requirement already satisfied: pillow>=8 in c:\\users\\ygokh\\anaconda3\\lib\\site-packages (from matplotlib) (10.4.0)\n",
      "Requirement already satisfied: pyparsing>=2.3.1 in c:\\users\\ygokh\\anaconda3\\lib\\site-packages (from matplotlib) (3.1.2)\n",
      "Requirement already satisfied: python-dateutil>=2.7 in c:\\users\\ygokh\\anaconda3\\lib\\site-packages (from matplotlib) (2.9.0.post0)\n",
      "Requirement already satisfied: six>=1.5 in c:\\users\\ygokh\\anaconda3\\lib\\site-packages (from python-dateutil>=2.7->matplotlib) (1.16.0)\n"
     ]
    }
   ],
   "source": [
    "!pip install matplotlib"
   ]
  },
  {
   "cell_type": "code",
   "execution_count": 232,
   "id": "b457e635-0e3b-4964-a863-1bb76867970c",
   "metadata": {},
   "outputs": [],
   "source": [
    "import matplotlib.pyplot as plt"
   ]
  },
  {
   "cell_type": "code",
   "execution_count": 233,
   "id": "0268cabd-e000-446f-8b8b-3441c2da6d80",
   "metadata": {},
   "outputs": [],
   "source": [
    "def plot_last_200_apc_losses(filename, column_name=\"APC\"):\n",
    "    daily_losses = get_column_values(filename, column_name)\n",
    "    \n",
    "    dates = get_dates(filename)\n",
    "    \n",
    "    last_200_losses = daily_losses[-200:]\n",
    "    last_200_dates = dates[-200:]\n",
    "    \n",
    "    plt.figure(figsize=(8, 16), dpi=100)\n",
    "    \n",
    "    plt.plot(last_200_dates, last_200_losses, linestyle='--', color='c', label=\"APC losses\")\n",
    "    \n",
    "    plt.title(\"APC Losses Over Last 200 Days\", fontsize=16)\n",
    "    plt.xlabel(\"Date\", fontsize=12)\n",
    "    plt.ylabel(\"Number of APC Destroyed\", fontsize=12)\n",
    "    \n",
    "    plt.grid(True, which='both', linestyle=':', color='black')\n",
    "    \n",
    "    plt.legend(loc=\"upper right\")\n",
    "    \n",
    "    plt.xticks(rotation=45, fontsize=10)\n",
    "    plt.yticks(fontsize=10)\n",
    "    \n",
    "    plt.savefig('apc_losses_last_200_days.png', format='png')\n",
    "    \n",
    "    plt.show()"
   ]
  },
  {
   "cell_type": "code",
   "execution_count": 237,
   "id": "5a5c5f43-ef45-44b8-8e01-cc9ccd21af22",
   "metadata": {},
   "outputs": [
    {
     "data": {
      "image/png": "[encoded data removed]",
      "text/plain": [
       "<Figure size 800x1600 with 1 Axes>"
      ]
     },
     "metadata": {},
     "output_type": "display_data"
    }
   ],
   "source": [
    "plot_last_200_apc_losses('russia_losses_equipment.csv')"
   ]
  },
  {
   "cell_type": "code",
   "execution_count": null,
   "id": "8799a3f0-e83a-4dcb-9984-6c600de6ece1",
   "metadata": {},
   "outputs": [],
   "source": []
  },
  {
   "cell_type": "code",
   "execution_count": null,
   "id": "cf12cb28-5db0-4379-93f9-3dfca0c351e9",
   "metadata": {},
   "outputs": [],
   "source": []
  },
  {
   "cell_type": "code",
   "execution_count": null,
   "id": "8ff18023-fb57-416c-b587-8ca9c5c9c0f8",
   "metadata": {},
   "outputs": [],
   "source": []
  }
 ],
 "metadata": {
  "kernelspec": {
   "display_name": "Python 3 (ipykernel)",
   "language": "python",
   "name": "python3"
  },
  "language_info": {
   "codemirror_mode": {
    "name": "ipython",
    "version": 3
   },
   "file_extension": ".py",
   "mimetype": "text/x-python",
   "name": "python",
   "nbconvert_exporter": "python",
   "pygments_lexer": "ipython3",
   "version": "3.12.7"
  }
 },
 "nbformat": 4,
 "nbformat_minor": 5
}
