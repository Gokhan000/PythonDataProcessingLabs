{
  "metadata": {
    "kernelspec": {
      "name": "python",
      "display_name": "Python (Pyodide)",
      "language": "python"
    },
    "language_info": {
      "codemirror_mode": {
        "name": "python",
        "version": 3
      },
      "file_extension": ".py",
      "mimetype": "text/x-python",
      "name": "python",
      "nbconvert_exporter": "python",
      "pygments_lexer": "ipython3",
      "version": "3.8"
    }
  },
  "nbformat_minor": 5,
  "nbformat": 4,
  "cells": [
    {
      "id": "7e11eed4-7508-4b96-8b17-d05d647767b8",
      "cell_type": "markdown",
      "source": "# Burkina Faso \r\n\r\n<div style=\"border: 3px solid #000000; padding: 15px; background-color: #f0f8ff;\">\r\n\r\n## Area and Population\r\n\r\n- **<span style=\"color:blue;\">Area</span>* *:4<u>274,200 square kilometers</u>\r\n- **<span style=\"color:green;\">Population</spa n>**: ~21 milli3n (2023)\r\n\r\n## Government\r\n- **<span style=\"color:red;\">Type</span>**: *Presidential Republic*\r\n- **<span style=\"color:purple;\">Capital</span>**: **Ouagadougou**\r\n\r\n## Celebrities\r\n\r\n1. **Thomas Sankara** – Revolutionary and former president.\r\n2. **Salif Keita** – Famous footballer.\r\n3. **Aïda Muluneh** – Renow\n4. **Bobo Fenasker** – Famous boxer.ed photographer.\r\n\r\n## Burkina Faso Flag\r\n\r\n<div style=\"border: 2px solid #000; padding: 10px; background-color: #e0ffe0;\">\r\n    <svg width=\"300\" height=\"200\">\r\n      <rect width=\"300\" height=\"100\" style=\"fill:red;\" />\r\n      <rect y=\"100\" width=\"300\" height=\"100\" style=\"fill:green;\" />\r\n      <polygon points=\"150,60 165,90 195,90 170,110 180,140 150,120 120,140 130,110 105,90 135,90\" style=\"fill:yellow;\" />\r\n    </svg>\r\n</div>\r\n\r\n---\r\n\r\n### Table of Information\r\n\r\n| **Category**            | **Information**                                |\r\n|-------------------------|------------------------------------------------|\r\n| <span style=\"color:blue;\">**Area**</span> | 274,200 sq km                               |\r\n| <span style=\"color:green;\">**Population**</span> | ~21 million                                  |\r\n| <span style=\"color:red;\">**Capital**</span> | Ouagadougou                                  |\r\n| **Natural Wonders**      | Cascades de Karfiguéla, Sindou Peaks           |\r\n\r\n---\r\n\r\n### Nested List of Interesting Facts:\r\n\r\n- **Languages**:\r\n  - French (official)\r\n  - Moore\r\n  - Dioula\r\n\r\n- **Economy**:\r\n  - Main exports:\r\n    1. **Gold**\r\n    2. **Cotton**\r\n    3. **Livestock**\r\n\r\n---\r\n\r\n#### Linked pic\n\r\n[![Flag of Burkina Faso](https://upload.wikimedia.org/wikipedia/commons/thumb/3/31/Flag_of_Burkina_Faso.svg/1920px-Flag_of_Burkina_Faso.svg.png)](https://en.wikipedia.org/wiki/Burkina\n[![Symbol of Burkina Faso - National Emblem](https://c7.alamy.com/comp/PYEMW6/symbol-of-burkina-faso-national-emblem-PYEMW6.jpg)](https://en.wikipedia.org/wiki/Coat_of_arms_of_Burkina_Faso)\n\n\n_\nFaso)\r\n\r\n#### Embedded picture:g)\r\n\r\n## [Learn More About Burkina Faso](https://en.wikipedia.org/wiki/Burkina_Faso)\r\n",
      "metadata": {}
    },
    {
      "id": "8847877f-fadb-4c89-bf44-8272dfa1a6f9",
      "cell_type": "code",
      "source": "def gcd(a, b):\n    while b != 0:\n        a, b = b, a % b\n    return a\n\ndef test_gcd():\n    print(\"the Euclidean algorithm:\")\n    print(f\"gcd of 16 and 36 is {gcd(16, 36)}\")\n    print(f\"gcd of 12 and 54 is {gcd(12, 54)}\")\n\ntest_gcd()\n",
      "metadata": {
        "trusted": true
      },
      "outputs": [
        {
          "name": "stdout",
          "text": "the Euclidean algorithm:\ngcd of 16 and 36 is 4\ngcd of 12 and 54 is 6\n",
          "output_type": "stream"
        }
      ],
      "execution_count": 6
    },
    {
      "id": "e10edc27-7a43-4cee-890e-8d01c59d46c6",
      "cell_type": "code",
      "source": "",
      "metadata": {
        "trusted": true
      },
      "outputs": [],
      "execution_count": null
    },
    {
      "id": "6c97cd1b-31d8-4a1e-aeb7-79c4f74b2170",
      "cell_type": "code",
      "source": "",
      "metadata": {
        "trusted": true
      },
      "outputs": [],
      "execution_count": null
    }
  ]
}